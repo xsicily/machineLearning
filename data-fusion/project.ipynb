{
 "cells": [
  {
   "cell_type": "markdown",
   "metadata": {},
   "source": [
    "# Multimodal Data Fusion's Project\n",
    "\n",
    "## Score level fusing of face and voice for identity verification\n",
    "\n",
    "Importing the required libraries"
   ]
  },
  {
   "cell_type": "code",
   "execution_count": 1,
   "metadata": {},
   "outputs": [],
   "source": [
    "import numpy as np\n",
    "import pandas as pd\n",
    "from sklearn import metrics\n",
    "import matplotlib.pyplot as plt"
   ]
  },
  {
   "cell_type": "markdown",
   "metadata": {},
   "source": [
    "#### Use following functions to compute the threshold and error in your code.\n",
    "\n",
    "Computing Decision Threshold"
   ]
  },
  {
   "cell_type": "code",
   "execution_count": 2,
   "metadata": {},
   "outputs": [],
   "source": [
    "def Threshold(Sample_N, Sample_P):\n",
    "    scores = np.concatenate((Sample_N, Sample_P), axis=0)\n",
    "    y = np.concatenate((np.zeros(len(Sample_N)), np.ones(len(Sample_P))), axis=0)\n",
    "    \n",
    "    fpr, tpr, thresholds = metrics.roc_curve(y, scores)\n",
    "    fnr = 1 - tpr\n",
    "    eer_threshold = thresholds[np.nanargmin(np.absolute((fnr - fpr)))]\n",
    "    \n",
    "    return eer_threshold"
   ]
  },
  {
   "cell_type": "markdown",
   "metadata": {},
   "source": [
    "Computing Error"
   ]
  },
  {
   "cell_type": "code",
   "execution_count": 3,
   "metadata": {},
   "outputs": [],
   "source": [
    "def ComputeERR(Sample_N, Sample_P, thr):\n",
    "    fa = len(Sample_N[Sample_N>=thr])\n",
    "    fr = len(Sample_P[Sample_P<thr])\n",
    "    \n",
    "    far = fa/len(Sample_N)\n",
    "    frr = fr/len(Sample_P)\n",
    "    hter = (far + frr)/ 2\n",
    "    \n",
    "    return hter, far, frr"
   ]
  },
  {
   "cell_type": "markdown",
   "metadata": {},
   "source": [
    "### Verification Error for Face"
   ]
  },
  {
   "cell_type": "code",
   "execution_count": 4,
   "metadata": {},
   "outputs": [
    {
     "name": "stdout",
     "output_type": "stream",
     "text": [
      "Threshold = 0.0936\n"
     ]
    },
    {
     "name": "stderr",
     "output_type": "stream",
     "text": [
      "C:\\Users\\Sicil\\AppData\\Local\\Continuum\\anaconda3\\envs\\Jupyter Machine Vision\\lib\\site-packages\\ipykernel_launcher.py:4: FutureWarning: Method .as_matrix will be removed in a future version. Use .values instead.\n",
      "  after removing the cwd from sys.path.\n",
      "C:\\Users\\Sicil\\AppData\\Local\\Continuum\\anaconda3\\envs\\Jupyter Machine Vision\\lib\\site-packages\\ipykernel_launcher.py:5: FutureWarning: Method .as_matrix will be removed in a future version. Use .values instead.\n",
      "  \"\"\"\n"
     ]
    }
   ],
   "source": [
    "wolves = pd.read_csv('.\\Train_negative.csv')\n",
    "sheep = pd.read_csv('.\\Train_positive.csv')\n",
    "\n",
    "wolves_f = wolves['face'].as_matrix()\n",
    "sheep_f = sheep['face'].as_matrix()\n",
    "\n",
    "THR = Threshold(wolves_f, sheep_f)\n",
    "print('Threshold =', THR)"
   ]
  },
  {
   "cell_type": "code",
   "execution_count": 5,
   "metadata": {},
   "outputs": [
    {
     "name": "stdout",
     "output_type": "stream",
     "text": [
      "Training Error= 1.5\n"
     ]
    }
   ],
   "source": [
    "[err, far, frr] = ComputeERR(wolves_f, sheep_f, THR)\n",
    "print('Training Error=', err*100)"
   ]
  },
  {
   "cell_type": "code",
   "execution_count": 6,
   "metadata": {},
   "outputs": [
    {
     "name": "stderr",
     "output_type": "stream",
     "text": [
      "C:\\Users\\Sicil\\AppData\\Local\\Continuum\\anaconda3\\envs\\Jupyter Machine Vision\\lib\\site-packages\\ipykernel_launcher.py:4: FutureWarning: Method .as_matrix will be removed in a future version. Use .values instead.\n",
      "  after removing the cwd from sys.path.\n",
      "C:\\Users\\Sicil\\AppData\\Local\\Continuum\\anaconda3\\envs\\Jupyter Machine Vision\\lib\\site-packages\\ipykernel_launcher.py:5: FutureWarning: Method .as_matrix will be removed in a future version. Use .values instead.\n",
      "  \"\"\"\n"
     ]
    }
   ],
   "source": [
    "wolves_t = pd.read_csv('.\\Test_negative.csv')\n",
    "sheep_t = pd.read_csv('.\\Test_positive.csv')\n",
    "\n",
    "wolves_t_f = wolves_t['face'].as_matrix()\n",
    "sheep_t_f = sheep_t['face'].as_matrix()"
   ]
  },
  {
   "cell_type": "code",
   "execution_count": 7,
   "metadata": {},
   "outputs": [
    {
     "name": "stdout",
     "output_type": "stream",
     "text": [
      "Test Error = 1.7900268336314848\n"
     ]
    }
   ],
   "source": [
    "[err_t, far_t, frr_t] = ComputeERR(wolves_t_f, sheep_t_f, THR)\n",
    "print('Test Error =', err_t*100)"
   ]
  },
  {
   "cell_type": "markdown",
   "metadata": {},
   "source": [
    "### Task 1: Verification Error from Voice\n",
    "Use the voice scores to compute error for verification, i.e. ERR."
   ]
  },
  {
   "cell_type": "code",
   "execution_count": 8,
   "metadata": {},
   "outputs": [
    {
     "name": "stdout",
     "output_type": "stream",
     "text": [
      "Threshold = 3.154\n",
      "Training Error= 0.8329166666666667\n",
      "Test Error = 1.1393112701252237\n"
     ]
    },
    {
     "name": "stderr",
     "output_type": "stream",
     "text": [
      "C:\\Users\\Sicil\\AppData\\Local\\Continuum\\anaconda3\\envs\\Jupyter Machine Vision\\lib\\site-packages\\ipykernel_launcher.py:1: FutureWarning: Method .as_matrix will be removed in a future version. Use .values instead.\n",
      "  \"\"\"Entry point for launching an IPython kernel.\n",
      "C:\\Users\\Sicil\\AppData\\Local\\Continuum\\anaconda3\\envs\\Jupyter Machine Vision\\lib\\site-packages\\ipykernel_launcher.py:2: FutureWarning: Method .as_matrix will be removed in a future version. Use .values instead.\n",
      "  \n",
      "C:\\Users\\Sicil\\AppData\\Local\\Continuum\\anaconda3\\envs\\Jupyter Machine Vision\\lib\\site-packages\\ipykernel_launcher.py:10: FutureWarning: Method .as_matrix will be removed in a future version. Use .values instead.\n",
      "  # Remove the CWD from sys.path while we load stuff.\n",
      "C:\\Users\\Sicil\\AppData\\Local\\Continuum\\anaconda3\\envs\\Jupyter Machine Vision\\lib\\site-packages\\ipykernel_launcher.py:11: FutureWarning: Method .as_matrix will be removed in a future version. Use .values instead.\n",
      "  # This is added back by InteractiveShellApp.init_path()\n"
     ]
    }
   ],
   "source": [
    "wolves_v = wolves['voice'].as_matrix()\n",
    "sheep_v = sheep['voice'].as_matrix()\n",
    "\n",
    "THR = Threshold(wolves_v, sheep_v)\n",
    "print('Threshold =', THR)\n",
    "\n",
    "[err, far, frr] = ComputeERR(wolves_v, sheep_v, THR)\n",
    "print('Training Error=', err*100)\n",
    "\n",
    "wolves_t_v = wolves_t['voice'].as_matrix()\n",
    "sheep_t_v = sheep_t['voice'].as_matrix()\n",
    "\n",
    "[err_t, far_t, frr_t] = ComputeERR(wolves_t_v, sheep_t_v, THR)\n",
    "print('Test Error =', err_t*100)"
   ]
  },
  {
   "cell_type": "markdown",
   "metadata": {},
   "source": [
    "### Task 2: Verification Error from Face and Voice using a Simple Sum\n",
    "Simply sum the scores of face and voice."
   ]
  },
  {
   "cell_type": "code",
   "execution_count": 10,
   "metadata": {
    "scrolled": true
   },
   "outputs": [
    {
     "name": "stdout",
     "output_type": "stream",
     "text": [
      "Threshold = 3.2636000000000003\n",
      "Training Error = 0.18958333333333335\n",
      "Test Error = 0.42397137745974955\n"
     ]
    },
    {
     "data": {
      "image/png": "[encoded data removed]",
      "text/plain": [
       "<Figure size 432x288 with 1 Axes>"
      ]
     },
     "metadata": {
      "needs_background": "light"
     },
     "output_type": "display_data"
    }
   ],
   "source": [
    "c1 = plt.scatter(wolves_f,wolves_v,c=('r'))\n",
    "c2 = plt.scatter(sheep_f,sheep_v,c=('g'))\n",
    "plt.legend([c1,c2], ['wolves training', 'sheep training'])\n",
    "\n",
    "wolves_training_sum = wolves_f + wolves_v\n",
    "sheep_training_sum = sheep_f + sheep_v\n",
    "\n",
    "THR = Threshold(wolves_training_sum, sheep_training_sum)\n",
    "print('Threshold =', THR)\n",
    "\n",
    "[err, far, frr] = ComputeERR(wolves_training_sum, sheep_training_sum, THR)\n",
    "print('Training Error =', err*100)\n",
    "\n",
    "wolves_testing_sum = wolves_t_f + wolves_t_v\n",
    "sheep_testing_sum = sheep_t_f + sheep_t_v\n",
    "[err_t, far_t, frr_t] = ComputeERR(wolves_testing_sum, sheep_testing_sum, THR)\n",
    "print('Test Error =', err_t*100)"
   ]
  },
  {
   "cell_type": "markdown",
   "metadata": {},
   "source": [
    "### Task 3: Weighted Sum Fusion.\n",
    "Use the training error of face and voice to weight the evaluation scores. \n",
    "\n",
    "Hint: The weights have to be inverse to the errors and sume to one."
   ]
  },
  {
   "cell_type": "code",
   "execution_count": 11,
   "metadata": {},
   "outputs": [
    {
     "name": "stdout",
     "output_type": "stream",
     "text": [
      "0.5\n",
      "0.27763888888888894\n",
      "Threshold = 1.63224775\n",
      "Training Error = 0.3204166666666667\n",
      "Test Error = 0.6097942754919499\n"
     ]
    }
   ],
   "source": [
    "training_error_face = 1.5 \n",
    "training_error_voice = 0.8329166666666667 \n",
    "weight_voice = training_error_face/(training_error_face + training_error_face)\n",
    "weight_face = training_error_voice/(training_error_face + training_error_face)\n",
    "print(weight_voice)\n",
    "print(weight_face)\n",
    "wolves_training_wsum = weight_face*wolves_f + weight_voice*wolves_v\n",
    "sheep_training_wsum = weight_face*sheep_f + weight_voice*sheep_v\n",
    "\n",
    "THR = Threshold(wolves_training_wsum, sheep_training_wsum)\n",
    "print('Threshold =', THR)\n",
    "\n",
    "[err, far, frr] = ComputeERR(wolves_training_wsum, sheep_training_wsum, THR)\n",
    "print('Training Error =', err*100)\n",
    "\n",
    "wolves_testing_wsum = weight_face*wolves_t_f + weight_voice*wolves_t_v\n",
    "sheep_testing_wsum = weight_face*sheep_t_f + weight_voice*sheep_t_v\n",
    "[err_t, far_t, frr_t] = ComputeERR(wolves_testing_wsum, sheep_testing_wsum, THR)\n",
    "print('Test Error =', err_t*100)"
   ]
  },
  {
   "cell_type": "markdown",
   "metadata": {},
   "source": [
    "### Task 4: Implement One Classifier-based Fusion (SVM or Logistic Regression)\n",
    "Use the training scores to train the classifier and the evaluation scores for classification and computing the error.\n",
    "\n",
    "In the case of SVM, either the output probabilities can be considered as the fusion score for computing the error or simply the error is \"1-accuracy\".\n",
    "\n",
    "For the logistic regression, the predicted values are the fusion scores. Classification labels should zero and one for the negative and the positive samples, respectively."
   ]
  },
  {
   "cell_type": "code",
   "execution_count": 12,
   "metadata": {
    "scrolled": false
   },
   "outputs": [
    {
     "name": "stderr",
     "output_type": "stream",
     "text": [
      "C:\\Users\\Sicil\\AppData\\Local\\Continuum\\anaconda3\\envs\\Jupyter Machine Vision\\lib\\site-packages\\ipykernel_launcher.py:14: FutureWarning: Method .as_matrix will be removed in a future version. Use .values instead.\n",
      "  \n",
      "C:\\Users\\Sicil\\AppData\\Local\\Continuum\\anaconda3\\envs\\Jupyter Machine Vision\\lib\\site-packages\\ipykernel_launcher.py:16: FutureWarning: Method .as_matrix will be removed in a future version. Use .values instead.\n",
      "  app.launch_new_instance()\n"
     ]
    },
    {
     "name": "stdout",
     "output_type": "stream",
     "text": [
      "0.9997058823529412\n",
      "Threshold= 0.5076300226526023\n",
      "Testing Error = 0.38146167557932265\n"
     ]
    }
   ],
   "source": [
    "from sklearn.svm import SVC\n",
    "\n",
    "training_data_negative=pd.DataFrame(wolves)\n",
    "training_data_negative['result']=0 # define 0 as negative\n",
    "training_data_wolves=training_data_negative.drop(columns='label') # remove 3rd column-'label'\n",
    "\n",
    "training_data_positive=pd.DataFrame(sheep)\n",
    "training_data_sheep=training_data_positive.drop(columns='label')# remove 3rd column-'label'\n",
    "training_data_sheep['result']=1 # define 0 as negative\n",
    "\n",
    "x = training_data_wolves.append(training_data_sheep, ignore_index=True)\n",
    "y = x['result']\n",
    "x = x.drop(columns='result')\n",
    "x = x.as_matrix()\n",
    "x = np.array(x)\n",
    "y = y.as_matrix()\n",
    "y = np.array(y)\n",
    "\n",
    "clf = SVC(kernel='linear',probability=True)\n",
    "clf.fit(x,y)\n",
    "\n",
    "testing_data_negative=pd.DataFrame(wolves_t)\n",
    "testing_data_wolves=testing_data_negative.drop(columns='label') # remove 3rd column-'label'\n",
    "testing_data_wolves['result']=0\n",
    "\n",
    "\n",
    "testing_data_positive=pd.DataFrame(sheep_t)\n",
    "testing_data_sheep=testing_data_positive.drop(columns='label') # remove 3rd column-'label'\n",
    "testing_data_sheep['result']=1\n",
    "\n",
    "x_test = testing_data_wolves.append(testing_data_sheep, ignore_index=True)\n",
    "y_test = x_test['result']\n",
    "x_test = x_test.drop(columns='result')\n",
    "\n",
    "y_pred = clf.predict_proba(x_test)\n",
    "y_accuracy = clf.score(x_test,y_test)\n",
    "\n",
    "print(y_accuracy)\n",
    "wolves_testing_proba = y_pred[:,0]\n",
    "sheep_testing_proba = y_pred[:,1]\n",
    "\n",
    "wolves_testing_proba = 1-wolves_testing_proba\n",
    "sheep_testing_proba = 1-sheep_testing_proba\n",
    "\n",
    "THR = Threshold(wolves_testing_proba, sheep_testing_proba)\n",
    "print('Threshold=', THR)\n",
    "\n",
    "[err, far, frr] = ComputeERR(wolves_testing_proba, sheep_testing_proba, THR)\n",
    "print('Testing Error =', err*100)\n"
   ]
  },
  {
   "cell_type": "markdown",
   "metadata": {},
   "source": [
    "### Task 5: One Density-based Score Fusion\n",
    "Use the training scores for estimating the authentic (f_Sample_P) and imposter (f_Sample_N) densities. Then, use the ratio f_Sample_P(Test)/f_Sample_N(Test) as the fusion.\n",
    "\n",
    "Hint: Examples of density estimation approaches are Gaussian, Mixture of Gaussian, Kernel Density Estimation, etc."
   ]
  },
  {
   "cell_type": "code",
   "execution_count": null,
   "metadata": {
    "scrolled": true
   },
   "outputs": [],
   "source": [
    "from sklearn.neighbors import KernelDensity\n",
    "\n",
    "kde_wolves = KernelDensity(kernel = 'gaussian',bandwidth = 2.0).fit(training_data_wolves)\n",
    "kde_sheep = KernelDensity(kernel = 'gaussian',bandwidth = 2.0).fit(training_data_sheep)\n",
    "\n",
    "testing_data_wolves = pd.DataFrame(training_data_wolves)\n",
    "testing_data_sheep = pd.DataFrame(training_data_sheep)\n",
    "\n",
    "LR_wolves_score= kde_sheep.score_samples(testing_data_sheep)/kde_wolves.score_samples(testing_data_sheep)\n",
    "LR_sheep_score= kde_sheep.score_samples(testing_data_wolves)/kde_wolves.score_samples(testing_data_wolves)\n",
    "\n",
    "THR = Threshold(LR_wolves_score, LR_sheep_score)\n",
    "print('Threshold=', THR)\n",
    "\n",
    "[err, far, frr] = ComputeERR(LR_wolves_score, LR_sheep_score, THR)\n",
    "print('Testing Error =', err*100)\n"
   ]
  }
 ],
 "metadata": {
  "kernelspec": {
   "display_name": "Python 3",
   "language": "python",
   "name": "python3"
  },
  "language_info": {
   "codemirror_mode": {
    "name": "ipython",
    "version": 3
   },
   "file_extension": ".py",
   "mimetype": "text/x-python",
   "name": "python",
   "nbconvert_exporter": "python",
   "pygments_lexer": "ipython3",
   "version": "3.7.2"
  }
 },
 "nbformat": 4,
 "nbformat_minor": 2
}
